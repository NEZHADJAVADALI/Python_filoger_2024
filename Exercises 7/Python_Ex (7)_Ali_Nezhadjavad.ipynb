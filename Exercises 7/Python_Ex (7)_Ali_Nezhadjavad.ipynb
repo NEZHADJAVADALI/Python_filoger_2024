{
 "cells": [
  {
   "cell_type": "markdown",
   "id": "fb7a8054",
   "metadata": {},
   "source": [
    "<div style=\"color: white;padding-top:18px;text-align:center;background-color:#8B008B;border-radius:15px;border: 1px solid white;\"> \n",
    "    <h3>Exercise 7 (score:550)</h3>\n",
    "</div>"
   ]
  },
  {
   "cell_type": "markdown",
   "id": "bd5458df",
   "metadata": {},
   "source": [
    "<div style=\"color: black;font-family:Georgia;padding-top:18px;text-align:left;background-color:lightskyblue;border-radius:15px;border: 2px solid cornflowerblue;\">\n",
    "    <h4>Question 01 (Function)(100):</h4>\n",
    "    <p>\n",
    "        define two lists that one of them is strings and another is float, change values of both of them to int and create a list that is sum of them. use map function and lambda. \n",
    "    </p>\n",
    "</div>"
   ]
  },
  {
   "cell_type": "code",
   "execution_count": 7,
   "id": "99937553-2a26-4787-b365-d46f41243c5e",
   "metadata": {},
   "outputs": [
    {
     "name": "stdout",
     "output_type": "stream",
     "text": [
      "[2, 4, 6, 8, 18]\n"
     ]
    }
   ],
   "source": [
    "# defining two list\n",
    "list_string = [\"1\", \"2\", \"3\", \"4\", \"10\"]\n",
    "list_float = [1.1, 2.2, 3.3, 4.4, 8.8]\n",
    "\n",
    "#changing them into integer using map\n",
    "int_list_string = list(map(lambda x: int(x), list_string))\n",
    "int_list_float = list(map(lambda x: int(x), list_float))\n",
    "\n",
    "# sum two new list\n",
    "sum_list = list(map(lambda x, y: x + y, int_list_string,int_list_float))\n",
    "print(sum_list)\n"
   ]
  },
  {
   "cell_type": "markdown",
   "id": "014bb5de",
   "metadata": {},
   "source": [
    "<div style=\"color: black;font-family:Georgia;padding-top:18px;text-align:left;background-color:lightskyblue;border-radius:15px;border: 2px solid cornflowerblue;\">\n",
    "    <h4>Question 02 (Function)(100):</h4>\n",
    "    <p>\n",
    "        Write a Python program where users input two numbers and choose an operation ( +, -, *, /,**).Use lambda functions for calculations. If division is chosen and the second number is zero, replace it with one, notify the user, and proceed. The program should handle invalid operations gracefully.  \n",
    "    </p>\n",
    "</div>"
   ]
  },
  {
   "cell_type": "code",
   "execution_count": 8,
   "id": "064621d4",
   "metadata": {},
   "outputs": [
    {
     "ename": "ValueError",
     "evalue": "invalid literal for int() with base 10: ''",
     "output_type": "error",
     "traceback": [
      "\u001b[0;31m---------------------------------------------------------------------------\u001b[0m",
      "\u001b[0;31mValueError\u001b[0m                                Traceback (most recent call last)",
      "Cell \u001b[0;32mIn[8], line 9\u001b[0m\n\u001b[1;32m      6\u001b[0m power \u001b[38;5;241m=\u001b[39m \u001b[38;5;28;01mlambda\u001b[39;00m x, y : x \u001b[38;5;241m*\u001b[39m\u001b[38;5;241m*\u001b[39m y\n\u001b[1;32m      8\u001b[0m \u001b[38;5;66;03m# take the first and seconde number from user\u001b[39;00m\n\u001b[0;32m----> 9\u001b[0m x \u001b[38;5;241m=\u001b[39m \u001b[38;5;28mint\u001b[39m((\u001b[38;5;28minput\u001b[39m(\u001b[38;5;124m\"\u001b[39m\u001b[38;5;124mPlease Enter first number: \u001b[39m\u001b[38;5;124m\"\u001b[39m)))\n\u001b[1;32m     10\u001b[0m y \u001b[38;5;241m=\u001b[39m \u001b[38;5;28mint\u001b[39m(\u001b[38;5;28minput\u001b[39m(\u001b[38;5;124m\"\u001b[39m\u001b[38;5;124mPlease Enter seconde number: \u001b[39m\u001b[38;5;124m\"\u001b[39m))\n\u001b[1;32m     12\u001b[0m \u001b[38;5;66;03m# choosing operation\u001b[39;00m\n",
      "\u001b[0;31mValueError\u001b[0m: invalid literal for int() with base 10: ''"
     ]
    }
   ],
   "source": [
    "# defining lambda functions\n",
    "add = lambda x, y : x + y\n",
    "subtract = lambda x, y : x - y\n",
    "multiplication = lambda x, y : x * y\n",
    "division = lambda x, y : x / y\n",
    "power = lambda x, y : x ** y\n",
    " \n",
    "# take the first and seconde number from user\n",
    "x = int((input(\"Please Enter first number: \")))\n",
    "y = int(input(\"Please Enter seconde number: \"))\n",
    "\n",
    "# choosing operation\n",
    "operation = input(\"Please choose your operation ('+' '-' '*' '/' '**'): \")\n",
    "\n",
    "if operation == \"+\":\n",
    "    result = add(x,y)\n",
    "elif operation == \"-\":\n",
    "    result = subtract(x,y)\n",
    "elif operation == \"*\":\n",
    "    result = multiplication(x, y)\n",
    "elif operation == \"/\":\n",
    "    if y == 0 :\n",
    "        print(\"Division by zero is not allowed. The second number is replaced with 1.\")\n",
    "        y = 1\n",
    "    \n",
    "    result = division(x, y)\n",
    "elif operation == \"**\":\n",
    "    result = power(x, y)\n",
    "else:\n",
    "    result = \"Invalid operation, try again...\"\n",
    "\n",
    "# Display the result\n",
    "print(f\"Result : {result}\") \n"
   ]
  },
  {
   "cell_type": "markdown",
   "id": "5c81e750",
   "metadata": {},
   "source": [
    "<div style=\"color: black;font-family:Georgia;padding-top:18px;text-align:left;background-color:lightskyblue;border-radius:15px;border: 2px solid cornflowerblue;\">\n",
    "    <h4>Question 03 (Function)(100):</h4>\n",
    "    <p>\n",
    "        You have a list of numbers, and you need to perform the following tasks using the filter function: </p> \n",
    "        <p>•\tWrite a function that filters out all the negative numbers from the list.</p>\n",
    "        <p>•\tWrite a function that filters out all the numbers that are less than the average of the list.</p>\n",
    "       <p> •\tWrite a function that filters out all the even numbers from the list.</p>\n",
    "    </p>\n",
    "</div>"
   ]
  },
  {
   "cell_type": "code",
   "execution_count": null,
   "id": "50e67dcd",
   "metadata": {},
   "outputs": [
    {
     "name": "stdout",
     "output_type": "stream",
     "text": [
      "list of negative numbers: [-2, -4.5, -9.3, -123, -14]\n",
      "the average of numbers is -10.98 and less than average numbers are : [-123, -14]\n",
      "even numbers are: [-2, 8, 12, -14]\n"
     ]
    }
   ],
   "source": [
    "# define a list of numbers\n",
    "nums = [1, -2, 3, -4.5, 8, -9.3, 19, -123, 12, -14]\n",
    "\n",
    "# function for filter out negative numbers \n",
    "def negative_out(x):\n",
    "    negative_list = list(filter(lambda x: x < 0, x))\n",
    "    print(f\"list of negative numbers: {negative_list}\")\n",
    "\n",
    "def less_than_avg(x):\n",
    "    total = 0\n",
    "    for i in x :\n",
    "        total += i\n",
    "    \n",
    "    avg = total / len(x)\n",
    "    \n",
    "    result = list(filter(lambda x : x < avg, x))\n",
    "    print(f\"the average of numbers is {avg} and less than average numbers are : {result}\")\n",
    "\n",
    "def even_nums(x):\n",
    "    even_list = list(filter(lambda x : x % 2 == 0, x))\n",
    "    print(f\"even numbers are: {even_list}\")\n",
    "\n",
    "\n",
    "negative_out(nums)\n",
    "less_than_avg(nums)\n",
    "even_nums(nums)"
   ]
  },
  {
   "cell_type": "markdown",
   "id": "34326ff6",
   "metadata": {},
   "source": [
    "<div style=\"color: black;font-family:Georgia;padding-top:18px;text-align:left;background-color:lightskyblue;border-radius:15px;border: 2px solid cornflowerblue;\">\n",
    "    <h4>Question 04 (Function)(100):</h4>\n",
    "    <p>\n",
    "        Write a function that takes a list of email addresses and returns a new list containing only the valid email addresses. For simplicity, consider an email valid if it contains exactly one \"@11 symbol and at least one \".11 after the 11@\" symbol. Use the filter function to accomplish this. \n",
    "    </p>\n",
    "</div>"
   ]
  },
  {
   "cell_type": "code",
   "execution_count": 9,
   "id": "3384ea23",
   "metadata": {},
   "outputs": [
    {
     "name": "stdout",
     "output_type": "stream",
     "text": [
      "this is the list of emails: \n",
      "this.1@yahoo.com\n",
      "this.2@gamilcom\n",
      "this3@@yahoo.com\n",
      "thsi4@yahoo.com.gmail\n",
      "this5@gmailyahoo\n",
      "\n",
      "and this is the list of valid emails: \n",
      "this.1@yahoo.com\n",
      "thsi4@yahoo.com.gmail\n"
     ]
    }
   ],
   "source": [
    "# defining the email validation function\n",
    "def valid_email():\n",
    "    email_list = []\n",
    "    checked_email = []\n",
    "    for i in range(1,6):\n",
    "        email_list.append(input(f\"Please Enter  email number {i}: \"))\n",
    "        \n",
    "    for i in email_list:\n",
    "        if i.count(\"@\") != 1:\n",
    "            continue\n",
    "        local_part, domain_part = i.split(\"@\")\n",
    "        if domain_part.count(\".\") < 1:\n",
    "            continue\n",
    "        \n",
    "        checked_email.append(i)\n",
    "    \n",
    "    print(\"this is the list of emails: \")\n",
    "    for i in email_list:\n",
    "        print(i)\n",
    "    print(\"\\nand this is the list of valid emails: \")    \n",
    "    for i in checked_email:\n",
    "        print(i)\n",
    "       \n",
    "       \n",
    "valid_email()\n",
    "        \n",
    "            \n",
    "        \n",
    "                       \n",
    "                \n",
    "    \n",
    "        "
   ]
  },
  {
   "cell_type": "markdown",
   "id": "73189947",
   "metadata": {},
   "source": []
  },
  {
   "cell_type": "markdown",
   "id": "f31d7edb",
   "metadata": {},
   "source": [
    "<div style=\"color: black;font-family:Georgia;padding-top:18px;text-align:left;background-color:lightskyblue;border-radius:15px;border: 2px solid cornflowerblue;\">\n",
    "    <h4>Question 05 (Function)(100):</h4>\n",
    "    <p>\n",
    "        Write a function that takes a list of integers and checks if any of the numbers are greater than 100 but less than 200. The function should return True if at least one number in the list falls \n",
    "        within this range, otherwise False. \n",
    "    </p>\n",
    "</div>"
   ]
  },
  {
   "cell_type": "code",
   "execution_count": 11,
   "id": "6fb8490b",
   "metadata": {},
   "outputs": [
    {
     "name": "stdout",
     "output_type": "stream",
     "text": [
      "True\n"
     ]
    }
   ],
   "source": [
    "# take a list of integers\n",
    "def check_func():\n",
    "    int_list = []\n",
    "    for i in range(1,11):\n",
    "        int_list.append(int(input(f\"Please Enter number_{i}: \")))\n",
    "    \n",
    "    check = any(100 < x < 200 for x in int_list)\n",
    "    print(check)\n",
    "    \n",
    "\n",
    "check_func()"
   ]
  },
  {
   "cell_type": "markdown",
   "id": "5a2189dd",
   "metadata": {},
   "source": [
    "<div style=\"color: black;font-family:Georgia;padding-top:18px;text-align:left;background-color:lightskyblue;border-radius:15px;border: 2px solid cornflowerblue;\">\n",
    "    <h4>Question 06 (Function)(50):</h4>\n",
    "    <p>\n",
    "        Define a function that takes a sentence as input and returns the number of words in the sentence. \n",
    "    </p>\n",
    "</div>"
   ]
  },
  {
   "cell_type": "code",
   "execution_count": 12,
   "id": "e7a1fa52",
   "metadata": {},
   "outputs": [
    {
     "name": "stdout",
     "output_type": "stream",
     "text": [
      "the number of words is: 12\n"
     ]
    }
   ],
   "source": [
    "# define a func to count the nubmer of words in sentence\n",
    "\n",
    "def num_of_words():\n",
    "    word_list = []\n",
    "    check_word = 0\n",
    "    sentence = input(\"Please Enter a sentence: \")\n",
    "    \n",
    "    word_list = sentence.split(\" \")\n",
    "    \n",
    "    for i in word_list:\n",
    "        if i.isalpha():\n",
    "            check_word += 1\n",
    "                \n",
    "    print(f\"the number of words is: {check_word}\")\n",
    "                \n",
    "                \n",
    "num_of_words()\n",
    "                "
   ]
  },
  {
   "cell_type": "markdown",
   "id": "293056e3",
   "metadata": {},
   "source": [
    "<h2 style=\"color: blue:; background-color: purple\">Good luck</h2>"
   ]
  }
 ],
 "metadata": {
  "kernelspec": {
   "display_name": "Python 3 (ipykernel)",
   "language": "python",
   "name": "python3"
  },
  "language_info": {
   "codemirror_mode": {
    "name": "ipython",
    "version": 3
   },
   "file_extension": ".py",
   "mimetype": "text/x-python",
   "name": "python",
   "nbconvert_exporter": "python",
   "pygments_lexer": "ipython3",
   "version": "3.11.5"
  }
 },
 "nbformat": 4,
 "nbformat_minor": 5
}
