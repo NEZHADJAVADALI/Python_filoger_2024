{
 "cells": [
  {
   "cell_type": "markdown",
   "id": "fb7a8054",
   "metadata": {},
   "source": [
    "<div style=\"color: white;padding-top:18px;text-align:center;background-color:#8B008B;border-radius:15px;border: 1px solid white;\"> \n",
    "    <h3>Exercise 11 (score:300 + 50)</h3>\n",
    "</div>"
   ]
  },
  {
   "cell_type": "markdown",
   "id": "bd5458df",
   "metadata": {},
   "source": [
    "<div style=\"color: black;font-family:Georgia;padding-top:18px;text-align:left;background-color:lightskyblue;border-radius:15px;border: 2px solid cornflowerblue;\">\n",
    "    <h4>Question 01 (Tuple)(100):</h4>\n",
    "    <p>\n",
    "        Create a Python program with below details:\n",
    "        </p>\n",
    "<li>Input a count of students.</li> \n",
    "<li>Collect each student's unique ID, name, and score into tuples.</li>\n",
    "<li>Store these tuples in a list.</li>\n",
    "<li>Input a name to search the list.</li> \n",
    "<li>Display the matching student's details, if found..</li>\n",
    "    \n",
    "</div>"
   ]
  },
  {
   "cell_type": "code",
   "execution_count": 2,
   "id": "99937553-2a26-4787-b365-d46f41243c5e",
   "metadata": {},
   "outputs": [
    {
     "name": "stdout",
     "output_type": "stream",
     "text": [
      "The id you are entering is repetitive,please try again...\n",
      "[(1001, 'ali', 20), (1002, 'hassan', 19)]\n",
      "Search complete: \n",
      "name: hassan | id: 1002 | score: 19\n"
     ]
    }
   ],
   "source": [
    "# files github address\n",
    "# https://github.com/NEZHADJAVADALI/Python_filoger_2024\n",
    "\n",
    "#Write code here:\n",
    "students_list = []\n",
    "num_of_studnets = int(input(\"Please Enter number of students: \"))\n",
    "for i in range(1,num_of_studnets+1): \n",
    "    while True:\n",
    "        id = int(input(f\"What is the {i}th student id(10XX) :\"))        \n",
    "        if any(id == student[0] for student in students_list):\n",
    "            print(\"The id you are entering is repetitive,please try again...\")\n",
    "        else:\n",
    "            break\n",
    "    name = input(f\"What is the name of student {i}: \")\n",
    "    score = int(input(f\"What is the score of student {i}: \"))\n",
    "    tuple_ = (id, name, score)\n",
    "    students_list.append(tuple_)\n",
    "    \n",
    "print(students_list)\n",
    "\n",
    "name_to_search = input(\"Please enter a name to search: \")\n",
    "for i in students_list:\n",
    "    if i[1] == name_to_search:\n",
    "        print(\"Search complete: \")\n",
    "        print(f\"name: {i[1]} | id: {i[0]} | score: {i[2]}\")\n",
    "        break\n",
    "    \n",
    "# check"
   ]
  },
  {
   "cell_type": "markdown",
   "id": "014bb5de",
   "metadata": {},
   "source": [
    "<div style=\"color: black;font-family:Georgia;padding-top:18px;text-align:left;background-color:lightskyblue;border-radius:15px;border: 2px solid cornflowerblue;\">\n",
    "    <h4>Question 02 (set)(100):</h4>\n",
    "    <p>\n",
    "    Given two lists: list1 = [1, 2, 3, 4, 5, 6, 6, 7] and list2 = [5, 6, 7, 8, 9], write a \n",
    "program to create a list that contains only the unique elements from \n",
    "both list1 and list2. (using set)\n",
    "</p>\n",
    "</div>"
   ]
  },
  {
   "cell_type": "code",
   "execution_count": 3,
   "id": "49ba7c47",
   "metadata": {},
   "outputs": [
    {
     "name": "stdout",
     "output_type": "stream",
     "text": [
      "[1, 2, 3, 4, 5, 6, 6, 7, 5, 6, 7, 8, 9]\n",
      "[1, 2, 3, 4, 5, 6, 7, 8, 9]\n"
     ]
    }
   ],
   "source": [
    "#Write code here:\n",
    "list1 = [1,2,3,4,5,6,6,7]\n",
    "list2 = [5,6,7,8,9]\n",
    "list3 = list1 + list2\n",
    "print(list3)\n",
    "# set() func doesn't contain repetitive elements\n",
    "list3 = list(set(list3))\n",
    "print(list3)\n"
   ]
  },
  {
   "cell_type": "markdown",
   "id": "5c81e750",
   "metadata": {},
   "source": [
    "<div style=\"color: black;font-family:Georgia;padding-top:18px;text-align:left;background-color:lightskyblue;border-radius:15px;border: 2px solid cornflowerblue;\">\n",
    "    <h4>Question 03 (Set)(100):</h4>\n",
    "    <p>\n",
    "    Given a list items containing strings (filenames with extensions) and \n",
    "integers, write a Python program to extract and display the unique file \n",
    "extensions from the filenames in the list. Non-string items should be \n",
    "ignored.\n",
    "</p>\n",
    "</div>"
   ]
  },
  {
   "cell_type": "code",
   "execution_count": 6,
   "id": "50e67dcd",
   "metadata": {},
   "outputs": [
    {
     "name": "stdout",
     "output_type": "stream",
     "text": [
      "{'json', 'gpj', 'tft', 'txt'}\n"
     ]
    }
   ],
   "source": [
    "#Write code here:\n",
    "list_ = [\"image.gpj\",\"ali.txt\",\"yahoo.json\",\"gmail.txt\",\"font.tft\", 123, 455, \"gmail.tft\"]\n",
    "ext_list = []\n",
    "for i in list_:\n",
    "    if type(i) == str:\n",
    "        ext_list.append(i.split(\".\")[-1])\n",
    "\n",
    "ext_set = set(ext_list)\n",
    "print(ext_set)\n",
    "        \n",
    "\n"
   ]
  },
  {
   "cell_type": "markdown",
   "id": "d05c947f",
   "metadata": {},
   "source": [
    "<div style=\"color: white;padding-top:18px;text-align:center;background-color:#8B008B;border-radius:15px;border: 1px solid white;\"> \n",
    "    <h3>Exercise 12 (score:300 + 50)</h3>\n",
    "</div>"
   ]
  },
  {
   "cell_type": "markdown",
   "id": "34326ff6",
   "metadata": {},
   "source": [
    "<div style=\"color: black;font-family:Georgia;padding-top:18px;text-align:left;background-color:lightskyblue;border-radius:15px;border: 2px solid cornflowerblue;\">\n",
    "    <h4>Question 01 (Copy)(100):</h4>\n",
    "    <p>\n",
    "     Given dictionary books with book titles and their authors, perform the following:\n",
    "    </p>\n",
    "    <p>books = { \"Book1\":{\"title\": \"Learn Python\",\"authors\":[\"Author A\",\"Author B\"]},\"Book2\":{\"title\": \"AI Basics\",\"authors\":[\"Author C\"]}}</p>\n",
    "    <li>Shallow Copy Experiment:</li>\n",
    "<li>Make a shallow copy of books.</li>\n",
    "<li>Add \"Author D\" to \"Book1\" in this copy.</li>\n",
    "<li>Compare changes in the original dictionary.</li>\n",
    "<p>Deep Copy Experiment: •Create a deep copy of books.</p>\n",
    "<li>Add \"Author E\" to \"Book1\" in the deep copy.</li>\n",
    "<li>Discuss differences observed between the shallow and deep copy results.</li>\n",
    "</div>"
   ]
  },
  {
   "cell_type": "code",
   "execution_count": 7,
   "id": "2dc85e7c",
   "metadata": {},
   "outputs": [
    {
     "name": "stdout",
     "output_type": "stream",
     "text": [
      "{'Book1': {'title': 'Learn Python', 'authors': ['Author A', 'Author B', 'Author D']}, 'Book2': {'title': 'AI Basics', 'authors': ['Author C']}}\n",
      "{'Book1': {'title': 'Learn Python', 'authors': ['Author A', 'Author B', 'Author D']}, 'Book2': {'title': 'AI Basics', 'authors': ['Author C']}}\n",
      "{'Book1': {'title': 'Learn Python', 'authors': ['Author A', 'Author B', 'Author D', 'Author E']}, 'Book2': {'title': 'AI Basics', 'authors': ['Author C']}}\n",
      "{'Book1': {'title': 'Learn Python', 'authors': ['Author A', 'Author B', 'Author D']}, 'Book2': {'title': 'AI Basics', 'authors': ['Author C']}}\n"
     ]
    }
   ],
   "source": [
    "# Write code here:\n",
    "# shallow copy\n",
    "import copy\n",
    "books = { \"Book1\":{\"title\": \"Learn Python\", \"authors\" :[\"Author A\", \"Author B\"]}, \"Book2\":{\"title\": \"AI Basics\",\"authors\" :[\"Author C\"]}}\n",
    "books_copy = copy.copy(books)\n",
    "books_copy[\"Book1\"][\"authors\"].append(\"Author D\")\n",
    "print(books_copy)\n",
    "print(books)\n",
    "\n",
    "# Deep copy\n",
    "books_deepcopy = copy.deepcopy(books)\n",
    "books_deepcopy[\"Book1\"][\"authors\"].append(\"Author E\")\n",
    "print(books_deepcopy)\n",
    "print(books)\n",
    "\n",
    "# In summary, when you need a copy of an object where changes should not affect the original, you should use a deep copy\n",
    "#If you're okay with changes potentially affecting the original, a shallow copy may suffice and can be more efficient."
   ]
  },
  {
   "cell_type": "markdown",
   "id": "bf88bee7",
   "metadata": {},
   "source": [
    "<div style=\"color: black;font-family:Georgia;padding-top:18px;text-align:left;background-color:lightskyblue;border-radius:15px;border: 2px solid cornflowerblue;\">\n",
    "    <h4>Question 02 (ErrorHandling)(100):</h4>\n",
    "    <p>\n",
    "    Which type of error can’t handle by “Try, Except”? Give an example\n",
    "</p>\n",
    "</div>"
   ]
  },
  {
   "cell_type": "code",
   "execution_count": 18,
   "id": "906e0f5b",
   "metadata": {},
   "outputs": [
    {
     "ename": "SyntaxError",
     "evalue": "'(' was never closed (138818516.py, line 6)",
     "output_type": "error",
     "traceback": [
      "\u001b[0;36m  Cell \u001b[0;32mIn[18], line 6\u001b[0;36m\u001b[0m\n\u001b[0;31m    score = int(input(\"ٌWhat is your name? \"\u001b[0m\n\u001b[0m                     ^\u001b[0m\n\u001b[0;31mSyntaxError\u001b[0m\u001b[0;31m:\u001b[0m '(' was never closed\n"
     ]
    }
   ],
   "source": [
    "#Write code here:\n",
    "#syntax errors can't handle with \"Try,Except\":\n",
    "\n",
    "# Syntax errors can't handle with try,except\n",
    "try:\n",
    "    score = int(input(\"ٌWhat is your name? \"   \n",
    "except:\n",
    "    print(\"Error\")"
   ]
  },
  {
   "cell_type": "markdown",
   "id": "f31d7edb",
   "metadata": {},
   "source": [
    "<div style=\"color: black;font-family:Georgia;padding-top:18px;text-align:left;background-color:lightskyblue;border-radius:15px;border: 2px solid cornflowerblue;\">\n",
    "    <h4>Question 03 (Part1)(ErrorHandling)(100):</h4>\n",
    "    <p>\n",
    "   Manage the errors of the following codes \n",
    "    </p>\n",
    "    <p>sum = 8</p>  \n",
    "    <p>numbers = [10, 12, 13]</p>\n",
    "    <p>res = sum(numbers)</p> \n",
    "    <p>print(res)</p>\n",
    "</div>"
   ]
  },
  {
   "cell_type": "code",
   "execution_count": 1,
   "id": "c062e680",
   "metadata": {},
   "outputs": [
    {
     "name": "stdout",
     "output_type": "stream",
     "text": [
      "35\n"
     ]
    }
   ],
   "source": [
    "#Write code here\n",
    "sum_value = 8\n",
    "numbers = [10, 12, 13]\n",
    "res = sum(numbers)\n",
    "print(res)\n",
    "   \n",
    "# the variable sum should change in a way that don't shadow the sum() built_in function name"
   ]
  },
  {
   "cell_type": "markdown",
   "id": "2a90c5f6",
   "metadata": {},
   "source": [
    "<div style=\"color: black;font-family:Georgia;padding-top:18px;text-align:left;background-color:lightskyblue;border-radius:15px;border: 2px solid cornflowerblue;\">\n",
    "    <h4>Question 03 (Part2)(ErrorHandling)(100):</h4>\n",
    "    <p>\n",
    "   Manage the errors of the following codes \n",
    "    </p>\n",
    "    <p>numbers = [2, 3, 10, 23]</p>  \n",
    "    <p>numbers.remove(300)</p>\n",
    "    <p>print(numbers[8])</p> \n",
    "</div>"
   ]
  },
  {
   "cell_type": "code",
   "execution_count": 2,
   "id": "965392e2",
   "metadata": {},
   "outputs": [
    {
     "name": "stdout",
     "output_type": "stream",
     "text": [
      "list.remove(x): x not in list\n",
      "IndexError\n"
     ]
    }
   ],
   "source": [
    "#Write code here:\n",
    "numbers = [2,3,10,23]\n",
    "try:\n",
    "    numbers.remove(300)\n",
    "except Exception as error:\n",
    "    print(error)\n",
    "   \n",
    "try:\n",
    "    print(numbers[8])\n",
    "except Exception as error:\n",
    "    print(error.__class__.__name__)"
   ]
  },
  {
   "cell_type": "markdown",
   "id": "293056e3",
   "metadata": {},
   "source": [
    "<h2 style=\"color: blue:; background-color: purple\">Don't give up on your dreams :)</h2>"
   ]
  }
 ],
 "metadata": {
  "kernelspec": {
   "display_name": "Python 3 (ipykernel)",
   "language": "python",
   "name": "python3"
  },
  "language_info": {
   "codemirror_mode": {
    "name": "ipython",
    "version": 3
   },
   "file_extension": ".py",
   "mimetype": "text/x-python",
   "name": "python",
   "nbconvert_exporter": "python",
   "pygments_lexer": "ipython3",
   "version": "3.11.5"
  }
 },
 "nbformat": 4,
 "nbformat_minor": 5
}
