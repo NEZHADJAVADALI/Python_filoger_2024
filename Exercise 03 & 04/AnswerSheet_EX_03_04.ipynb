{
 "cells": [
  {
   "cell_type": "markdown",
   "metadata": {},
   "source": [
    "<div style=\"color: white;padding-top:18px;text-align:center;background-color:#8B008B;border-radius:15px;border: 1px solid white;\"> \n",
    "    <h3>Exercise 3 (score:350)</h3>\n",
    "</div>"
   ]
  },
  {
   "cell_type": "markdown",
   "metadata": {},
   "source": [
    "<div style=\"color: black;font-family:Georgia;padding-top:18px;text-align:left;background-color:lightskyblue;border-radius:15px;border: 2px solid cornflowerblue;\"> \n",
    "    <h4>Question 01 (String)</h4>\n",
    "    <p>Get a string from user and check length of that, if length of string was even\n",
    "show first half of string otherwise print last half of string.\n",
    "</p>\n",
    "    \n",
    "</div>"
   ]
  },
  {
   "cell_type": "code",
   "execution_count": 2,
   "metadata": {},
   "outputs": [
    {
     "name": "stdout",
     "output_type": "stream",
     "text": [
      "fg\n"
     ]
    }
   ],
   "source": [
    "# write code here:\n",
    "\n",
    "string = input(\"Insert a String: \")\n",
    "\n",
    "lenght = len(string)\n",
    "middle_index = (lenght - 1) // 2\n",
    "\n",
    "if lenght % 2 == 0:\n",
    "    first_half = string[:middle_index + 1]\n",
    "    print(first_half)\n",
    "else:\n",
    "    second_half = string[middle_index + 1:]\n",
    "    print(second_half)\n",
    "    \n"
   ]
  },
  {
   "cell_type": "markdown",
   "metadata": {},
   "source": [
    "<div style=\"color: black;font-family:Georgia;padding-top:18px;text-align:left;background-color:lightskyblue;border-radius:15px;border: 1px solid cornflowerblue;\"> \n",
    "    <h4>Question 02 (String)</h4>\n",
    "<p>\n",
    "based on the below text answer to questions.\n",
    "</p>\n",
    "\n",
    "<ul>\n",
    "    <li>\n",
    "        Divide the text into two halves. If length of string is odd, include the middle character in the first half.\n",
    "    </li>\n",
    "    <br>\n",
    "    <li>\n",
    "        In the first half of the text, replace all occurrences of the word \"Python\" with \"Java\".\n",
    "    </li>\n",
    "    <br>\n",
    "    <li>\n",
    "       In the second half of the text, replace all occurrences of the word \"Python\" with \"C++\" \n",
    "    </li>\n",
    "    <br>\n",
    "    <li>\n",
    "        Combine both halves back into a single text and print the modified text\n",
    "    </li>\n",
    "    <br>\n",
    "    <li>\n",
    "        How many times was the word \"Python\" replaced in the first half?\n",
    "    </li>\n",
    "    <br>\n",
    "    <li>\n",
    "        How many times was the word \"Python\" replaced in the second half?\n",
    "    </li>\n",
    "</ul>\n",
    "\n",
    "<br>\n",
    "<p>Here is the text:</p>\n",
    "\n",
    "<p>\n",
    "    Python is a widely-used programming language known for its simplicity. Python supports various\n",
    "    programming paradigms. Python's code readability makes it a favorite among developers. Python is\n",
    "    ideal for rapidly prototyping applications.\n",
    "</p>\n",
    "\n",
    "</div>"
   ]
  },
  {
   "cell_type": "code",
   "execution_count": 3,
   "metadata": {},
   "outputs": [
    {
     "name": "stdout",
     "output_type": "stream",
     "text": [
      "Java is a widely-used programming language known for its simplicity. Java supports various programming paradigms.C++'s code readability makes it a favorite among developers. C++ is ideal for rapidly prototyping applications.\n",
      "the number of replacement of Python with java in the first halve is: 2 \n",
      "the number of replacement of Python with C++ in the second halve is: 2 \n"
     ]
    }
   ],
   "source": [
    "# write code here:\n",
    "text = \"Python is a widely-used programming language known for its simplicity. Python supports various programming paradigms.\\\n",
    "Python's code readability makes it a favorite among developers. Python is ideal for rapidly prototyping applications.\"\n",
    "\n",
    "text_lenght = len(text)     # it's an even number\n",
    "middle_index = text_lenght // 2\n",
    "first_half = text[:middle_index]\n",
    "second_half = text[middle_index:]\n",
    "\n",
    "replaced_first_half = first_half.replace(\"Python\", \"Java\")\n",
    "replaced_second_half = second_half.replace(\"Python\", \"C++\")\n",
    "\n",
    "text_v2 = replaced_first_half + replaced_second_half \n",
    "\n",
    "print(text_v2)\n",
    "\n",
    "python_in_first_halve = first_half.count(\"Python\")\n",
    "python_in_second_halve = second_half.count(\"Python\")   \n",
    "\n",
    "print(f\"the number of replacement of Python with java in the first halve is: {python_in_first_halve} \")\n",
    "print(f\"the number of replacement of Python with C++ in the second halve is: {python_in_second_halve} \")\n",
    "\n",
    "\n",
    "\n",
    "\n",
    "\n"
   ]
  },
  {
   "cell_type": "markdown",
   "metadata": {},
   "source": [
    "<div style=\"color: black;font-family:Georgia;padding-top:18px;text-align:left;background-color:lightskyblue;border-radius:15px;border: 1px solid cornflowerblue;\"> \n",
    "    <h4>Question 03 (String)</h4>\n",
    "<p>Write a program that prompts the user to enter a text. The program should then\n",
    "remove all the spaces from the entered text and display the result.</p>\n",
    "\n",
    "</div>"
   ]
  },
  {
   "cell_type": "code",
   "execution_count": 15,
   "metadata": {},
   "outputs": [
    {
     "name": "stdout",
     "output_type": "stream",
     "text": [
      "hellothisisalinezhajavad,howareyoutoday?\n"
     ]
    }
   ],
   "source": [
    "# write code here:\n",
    "text = input(\"Please Enter text: \")\n",
    "reduct_space = text.split(\" \")\n",
    "text_v2 = \"\".join(reduct_space)\n",
    "print(text_v2)"
   ]
  },
  {
   "cell_type": "markdown",
   "metadata": {},
   "source": [
    "<div style=\"color: black;font-family:Georgia;padding-top:18px;text-align:left;background-color:lightskyblue;border-radius:15px;border: 1px solid cornflowerblue;\"> \n",
    "    <h4>Question 04 (String)</h4>\n",
    "<p>Write a program that prompts the user to enter two strings. if the second\n",
    "string is present in the first string, remove it, otherwise add the second\n",
    "string at the start and end of the first string. Display the new string in the\n",
    "output.</p>\n",
    "\n",
    "</div>"
   ]
  },
  {
   "cell_type": "code",
   "execution_count": 18,
   "metadata": {},
   "outputs": [
    {
     "name": "stdout",
     "output_type": "stream",
     "text": [
      "attention hello this is ali nezhadjavad attention\n"
     ]
    }
   ],
   "source": [
    "# write code here : \n",
    "text1 = input(\"Please Enter a String: \")\n",
    "text2 = input(\"Please Enter a String: \")\n",
    "  \n",
    "if (text2 in text1):\n",
    "    text1_v2 = text1.replace(text2, \"\")\n",
    "    print(text1_v2)\n",
    "else:\n",
    "    text1_v3 = text2 + \" \" + text1 + \" \" + text2\n",
    "    print(text1_v3)\n"
   ]
  },
  {
   "cell_type": "markdown",
   "metadata": {},
   "source": [
    "<div style=\"color: black;font-family:Georgia;padding-top:18px;text-align:left;background-color:lightskyblue;border-radius:15px;border: 1px solid cornflowerbue;\"> \n",
    "    <h4>Question 05 (String)\n",
    "</h4>\n",
    "<p>Write a program that prompts the user to enter a password. The program\n",
    "should validate the password based on the following criteria:</p>\n",
    "\n",
    "<ul>\n",
    "    <li>The length of the password must be exactly 8 characters.</li>\n",
    "    <li>The first four characters of the password must be letters (alphabets).</li>\n",
    "    <li>The last four characters of the password must be digits (numbers).</li>\n",
    "    <li>If the password meets all the above criteria, the program should display \"Valid\".\n",
    "        Otherwise, it should display \"Invalid\".\n",
    "    </li>\n",
    "    <br>\n",
    "</ul>\n",
    "\n",
    "</div>"
   ]
  },
  {
   "cell_type": "code",
   "execution_count": 3,
   "metadata": {},
   "outputs": [
    {
     "name": "stdout",
     "output_type": "stream",
     "text": [
      "Invalid\n"
     ]
    }
   ],
   "source": [
    "# write code here :\n",
    "password = input(\"Please Enter a password: \")\n",
    "\n",
    "lenght = len(password)\n",
    "first_four_letter = password[:4]\n",
    "last_four_letter = password[4:]\n",
    "is_alphabet = first_four_letter.isalpha()\n",
    "is_numeric = last_four_letter.isnumeric()\n",
    "\n",
    "if lenght == 8 and is_alphabet and is_numeric:\n",
    "    print(\"Valid\")\n",
    "else:\n",
    "    print(\"Invalid\")\n",
    " \n"
   ]
  },
  {
   "cell_type": "markdown",
   "metadata": {},
   "source": [
    "<div style=\"color: white;padding-top:18px;text-align:center;background-color:#8B008B;border-radius:15px;border: 1px solid white;\"> \n",
    "    <h3>Exercise 4 (score:300)</h3>\n",
    "</div>"
   ]
  },
  {
   "cell_type": "markdown",
   "metadata": {},
   "source": [
    "<div style=\"color: black;font-family:Georgia;padding-top:18px;text-align:left;background-color:lightskyblue;border-radius:15px;border: 1px solid cornflowerblue;\"> \n",
    "    <h4>Question 01 (Loop)</h4>\n",
    "<p>Create a program that prompts the user to input a string. The program should\n",
    "then analyze the string to determine the number of alphabetic characters\n",
    "(letters) and the number of numeric characters (digits) contained within it.\n",
    "</p>\n",
    "\n",
    "</div>"
   ]
  },
  {
   "cell_type": "code",
   "execution_count": 2,
   "metadata": {},
   "outputs": [
    {
     "name": "stdout",
     "output_type": "stream",
     "text": [
      "The number of letters in text is 16 and the number of digits is 5\n"
     ]
    }
   ],
   "source": [
    "# write code here :\n",
    "text = input(\"Please Enter a text: \")\n",
    "\n",
    "alphabet_num = 0\n",
    "numric_num = 0 \n",
    "\n",
    "for char in text:\n",
    "    if char.isalpha():\n",
    "        alphabet_num += 1\n",
    "    elif char.isdigit():\n",
    "        numric_num += 1\n",
    "\n",
    "print(f\"The number of letters in text is {alphabet_num} and the number of digits is {numric_num}\")"
   ]
  },
  {
   "cell_type": "markdown",
   "metadata": {},
   "source": [
    "<div style=\"color: black;font-family:Georgia;padding-top:18px;text-align:left;background-color:lightskyblue;border-radius:15px;border: 1px solid cornflowerblue;\"> \n",
    "    <h4>Question 02 (Loop)</h4>\n",
    "<p>Get five strings from the user using a loop and display each of them that has a\n",
    "length greater than 6.\n",
    "</p>\n",
    "\n",
    "</div>"
   ]
  },
  {
   "cell_type": "code",
   "execution_count": 8,
   "metadata": {},
   "outputs": [
    {
     "name": "stdout",
     "output_type": "stream",
     "text": [
      "the lenght of ---> jhghghj <--- is more than six, 1th one\n",
      "the lenght of ---> hgjhghj <--- is more than six, 2th one\n",
      "the lenght of ---> hkljh;kj <--- is more than six, 3th one\n",
      "the lenght of ---> hghgfhg <--- is more than six, 4th one\n"
     ]
    }
   ],
   "source": [
    "# write code here :\n",
    "counter = 0\n",
    "for i in range(1,6):\n",
    "    text = input(\"Please Enter a Text: \")\n",
    "    text_lenght = len(text)\n",
    "    if text_lenght > 6:\n",
    "        counter += 1\n",
    "        print(f\"the lenght of ---> {text} <--- is more than six, {counter}th one\")"
   ]
  },
  {
   "cell_type": "markdown",
   "metadata": {},
   "source": [
    "<div style=\"color: black;font-family:Georgia;padding-top:18px;text-align:left;background-color:lightskyblue;border-radius:15px;border: 1px solid cornflowerblue;\"> \n",
    "    <h4>Question 03 (Loop)</h4>\n",
    "<p>Write a program to analyze the scores of 10 students in a class. You need to\n",
    "collect the name and score (out of 20) for each student. Based on their\n",
    "scores, you need to assign them a level as follows: \n",
    "</p>\n",
    "\n",
    "<ul>\n",
    "    <li>A+ : If the score is between 17 and 20 (inclusive)</li>\n",
    "    <li>A : If the score is between 15 and less than 17</li>\n",
    "    <li>B : If the score is between 10 and less than 15</li>\n",
    "    <li>C : If the score is less than 10</li>\n",
    "</ul>\n",
    "\n",
    "<p>\n",
    "    Your program should display the following:\n",
    "</p>\n",
    "\n",
    "<ul>\n",
    "    <li>The name, score, and level of each student.</li>\n",
    "    <li>The name and score of the student with the highest score.</li>\n",
    "    <li>The name and score of the student with the lowest score.</li>\n",
    "    <li>The average score of the class.</li>\n",
    "    <li>\n",
    "        Make sure to validate the input to ensure that the score is a positive number and less than\n",
    "        or equal to 20.\n",
    "    </li>\n",
    "</ul>\n",
    "\n",
    "</div>"
   ]
  },
  {
   "cell_type": "code",
   "execution_count": 14,
   "metadata": {},
   "outputs": [
    {
     "name": "stdout",
     "output_type": "stream",
     "text": [
      "the level of student ali with 19.0 is A+ \n",
      "the level of student hassan with 16.0 is A \n",
      "the level of student roham with 14.0 is B \n",
      "the level of student jafar with 3.0 is C \n",
      "the level of student nilo with 10.0 is B \n",
      "the level of student rajabi with 12.0 is B \n",
      "the level of student sadaf with 8.0 is C \n",
      "the level of student jalal with 2.0 is C \n",
      "the level of student raha with 18.0 is A+ \n",
      "the level of student maryam with 7.0 is C \n",
      "Student ali has achieved the highest scoer which is 19.0 \n",
      "Student jalal has achieved the lowest scoer which is 2.0 \n",
      "the average score of the class is 10.9\n"
     ]
    }
   ],
   "source": [
    "# write code here :\n",
    "\n",
    "sum = 0\n",
    "mux_num = 0\n",
    "min_num = 20\n",
    "highest_num_name = \"\"\n",
    "lowest_num_name = \"\"\n",
    "\n",
    "for i in range(1,11):\n",
    "    name = input(f\"What is the name of {i}th Student: \")\n",
    "    input_score = input(f\"What is the score of {name}: \")\n",
    "    \n",
    "    \n",
    "    if input_score.replace(\".\", \"\").isdigit() and 0 <= float(input_score) <= 20:\n",
    "        score = float(input_score)\n",
    "    else:\n",
    "        input_score = input(f\"Score of {name} is WRONG inputed!!!Please Enter again: \")  \n",
    "        score = float(input_score)\n",
    "\n",
    "    # summation of scores   \n",
    "    sum += score\n",
    "    \n",
    "    # find maxinum and mininum of the numbers\n",
    "    if score > mux_num:\n",
    "        mux_num = score\n",
    "        highest_num_name = name\n",
    "    \n",
    "    if score < min_num:\n",
    "        min_num = score\n",
    "        lowest_num_name = name\n",
    "      \n",
    "    # check the level\n",
    "    level = \"\"\n",
    "    \n",
    "    if 17 <= score <= 20:\n",
    "        level = \"A+\"\n",
    "    elif 15 <= score < 17:\n",
    "        level = \"A\"\n",
    "    elif 10 <= score < 15:\n",
    "        level = \"B\"\n",
    "    elif 0 <= score < 10:\n",
    "        level = \"C\"\n",
    "        \n",
    "    print(f\"the level of student {name} with {score} is {level} \")\n",
    "    \n",
    "    \n",
    "average = sum / i\n",
    "\n",
    "print(f\"Student {highest_num_name} has achieved the highest scoer which is {mux_num} \")\n",
    "print(f\"Student {lowest_num_name} has achieved the lowest scoer which is {min_num} \")\n",
    "print(f\"the average score of the class is {average}\")\n",
    "\n",
    "      \n",
    "    \n",
    "    \n",
    "    \n",
    "\n",
    "    \n",
    "    "
   ]
  },
  {
   "cell_type": "code",
   "execution_count": null,
   "metadata": {},
   "outputs": [],
   "source": []
  },
  {
   "cell_type": "markdown",
   "metadata": {},
   "source": [
    "<div style=\"color: black;font-family:Georgia;padding-top:18px;text-align:left;background-color:lightskyblue;border-radius:15px;border: 1px solid cornflowerblue;\"> \n",
    "    <h4>Question 04 (Loop)\n",
    "</h4>\n",
    "<p>\n",
    "Write a Python program to iterate through the numbers 1 to 10. For each\n",
    "number, if it is odd, multiply it by 5 and if it is even, add 5 to it. Display each\n",
    "operation as it is performed, and at the end, show the sum of the numbers\n",
    "obtained from the even numbers and the product of the numbers obtained from\n",
    "the odd numbers. Your output should follow the format shown below:\n",
    "\n",
    "</p>\n",
    "<ul>\n",
    "    <li>1 * 5 = 5</li>\n",
    "    <li>2 + 5 = 7</li>\n",
    "    <li>3 * 5 = 15</li>\n",
    "    <li>4 + 5 = 9</li>\n",
    "    <li>5 * 5 = 25</li>\n",
    "    <li>6 + 5 = 11</li>\n",
    "    <li>7 * 5 = 35</li>\n",
    "    <li>8 + 5 = 13</li>\n",
    "    <li>9 * 5 = 45</li>\n",
    "    <li>10 + 5 = 15</li>\n",
    "</ul>\n",
    "\n",
    "</div>"
   ]
  },
  {
   "cell_type": "code",
   "execution_count": 43,
   "metadata": {},
   "outputs": [
    {
     "name": "stdout",
     "output_type": "stream",
     "text": [
      "1 * 5 = 5\n",
      "2 + 5 = 7\n",
      "3 * 5 = 15\n",
      "4 + 5 = 9\n",
      "5 * 5 = 25\n",
      "6 + 5 = 11\n",
      "7 * 5 = 35\n",
      "8 + 5 = 13\n",
      "9 * 5 = 45\n",
      "10 + 5 = 15\n",
      "the summation of numbers obtained from even numbers is: 55\n",
      "the product of numbers obtained from odd numbers is: 2953125\n"
     ]
    }
   ],
   "source": [
    "# write here :\n",
    "odd_number, summation_of_odd_numbers = 1, 1\n",
    "even_number, summation_of_even_numbers = 0, 0\n",
    "for i in range(1,11):\n",
    "    if i % 2 != 0:\n",
    "        odd_number = i * 5\n",
    "        summation_of_odd_numbers *= odd_number\n",
    "        print(f\"{i} * 5 = {odd_number}\")\n",
    "    else:\n",
    "        even_number = i + 5\n",
    "        summation_of_even_numbers += even_number\n",
    "        print(f\"{i} + 5 = {even_number}\")\n",
    "\n",
    "print(f\"the summation of numbers obtained from even numbers is: {summation_of_even_numbers}\")\n",
    "print(f\"the product of numbers obtained from odd numbers is: {summation_of_odd_numbers}\")"
   ]
  },
  {
   "cell_type": "markdown",
   "metadata": {},
   "source": [
    "<h2 style=\"color: blue:; background-color: purple\">Good luck</h2>"
   ]
  }
 ],
 "metadata": {
  "kernelspec": {
   "display_name": "base",
   "language": "python",
   "name": "python3"
  },
  "language_info": {
   "codemirror_mode": {
    "name": "ipython",
    "version": 3
   },
   "file_extension": ".py",
   "mimetype": "text/x-python",
   "name": "python",
   "nbconvert_exporter": "python",
   "pygments_lexer": "ipython3",
   "version": "3.11.5"
  }
 },
 "nbformat": 4,
 "nbformat_minor": 2
}
