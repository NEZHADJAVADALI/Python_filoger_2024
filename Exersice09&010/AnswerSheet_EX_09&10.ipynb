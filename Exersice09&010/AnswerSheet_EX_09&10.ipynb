{
 "cells": [
  {
   "cell_type": "markdown",
   "id": "29d8f8d6",
   "metadata": {},
   "source": [
    "<div style=\"color: white;padding-top:18px;text-align:center;background-color:#8B008B;border-radius:15px;border: 1px solid white;\"> \n",
    "    <h3>Exercise 9 (score:300+50)</h3>\n",
    "</div>"
   ]
  },
  {
   "cell_type": "markdown",
   "id": "4431989d",
   "metadata": {},
   "source": [
    "<div style=\"color: black;font-family:Georgia;padding-top:18px;text-align:left;background-color:lightskyblue;border-radius:15px;border: 2px solid cornflowerblue;\">\n",
    "    <h4>Question 01 (Project)(100):</h4>\n",
    "    <p>\n",
    "        write project6 by dictionary\n",
    "    </p>\n",
    "</div>"
   ]
  },
  {
   "cell_type": "code",
   "execution_count": null,
   "id": "c7ac71c0",
   "metadata": {},
   "outputs": [],
   "source": [
    "# attached to the file"
   ]
  },
  {
   "cell_type": "markdown",
   "id": "fb7a8054",
   "metadata": {},
   "source": [
    "<div style=\"color: white;padding-top:18px;text-align:center;background-color:#8B008B;border-radius:15px;border: 1px solid white;\"> \n",
    "    <h3>Exercise 10 (score:200+50)</h3>\n",
    "</div>"
   ]
  },
  {
   "cell_type": "markdown",
   "id": "bd5458df",
   "metadata": {},
   "source": [
    "<div style=\"color: black;font-family:Georgia;padding-top:18px;text-align:left;background-color:lightskyblue;border-radius:15px;border: 2px solid cornflowerblue;\">\n",
    "    <h4>Question 01 (Function)(100):</h4>\n",
    "    <p>\n",
    "        Implement a recursive Python function that asks for a student's score \n",
    "        until it receives a value between 0 and 20, then returns that valid score.\n",
    "    </p>\n",
    "</div>"
   ]
  },
  {
   "cell_type": "code",
   "execution_count": 5,
   "id": "ff88e96c",
   "metadata": {},
   "outputs": [
    {
     "name": "stdout",
     "output_type": "stream",
     "text": [
      "45.0 not in range, try again\n",
      "76.0 not in range, try again\n",
      "45.9 not in range, try again\n",
      "Please entera number, try again\n",
      "34.0 not in range, try again\n",
      "76.0 not in range, try again\n",
      "23.0 not in range, try again\n",
      "24.0 not in range, try again\n",
      "45.0 not in range, try again\n",
      "67.0 not in range, try again\n",
      "56.0 not in range, try again\n",
      "1.0\n"
     ]
    }
   ],
   "source": [
    "#write code here\n",
    "def recursive_valid_score():\n",
    "    score = input(\"Please enter a number(0-20): \")\n",
    "    if score.replace(\".\", \"\", 1).isdigit():\n",
    "        score = float(score)\n",
    "        if 0 < score < 20 :\n",
    "            return score\n",
    "        else:\n",
    "            print(f\"{score} not in range, try again\") \n",
    "    else:\n",
    "        print(\"Please enter a number, try again\")\n",
    "    \n",
    "    return recursive_valid_score()\n",
    "       \n",
    "score = recursive_valid_score()\n",
    "print(score)\n"
   ]
  },
  {
   "cell_type": "markdown",
   "id": "014bb5de",
   "metadata": {},
   "source": [
    "<div style=\"color: black;font-family:Georgia;padding-top:18px;text-align:left;background-color:lightskyblue;border-radius:15px;border: 2px solid cornflowerblue;\">\n",
    "    <h4>Question 02 (Function)(100):</h4>\n",
    "    <p>\n",
    "        Create a Python function that recursively multiplies all the numbers between two user provided integers.\n",
    "    </p>\n",
    "</div>"
   ]
  },
  {
   "cell_type": "code",
   "execution_count": 11,
   "id": "575abb33",
   "metadata": {},
   "outputs": [
    {
     "name": "stdout",
     "output_type": "stream",
     "text": [
      "360\n"
     ]
    }
   ],
   "source": [
    "#write code here\n",
    "def recursive_multiply(a,b):\n",
    "    if a > b:\n",
    "        a,b = b,a\n",
    "    # base case\n",
    "    if a == b:\n",
    "        return a\n",
    "    \n",
    "    return a * recursive_multiply(a+1,b)\n",
    "\n",
    "start = int(input(\"Please enter first number: \"))\n",
    "end = int(input(\"Please enter second number: \"))\n",
    "\n",
    "instance = recursive_multiply(start,end)\n",
    "print(instance)"
   ]
  },
  {
   "cell_type": "markdown",
   "id": "293056e3",
   "metadata": {},
   "source": [
    "<h2 style=\"color: blue:; background-color: purple\">You automaticly lose the chance you dont take.Trust yourself. you can do this</h2>"
   ]
  }
 ],
 "metadata": {
  "kernelspec": {
   "display_name": "Python 3 (ipykernel)",
   "language": "python",
   "name": "python3"
  },
  "language_info": {
   "codemirror_mode": {
    "name": "ipython",
    "version": 3
   },
   "file_extension": ".py",
   "mimetype": "text/x-python",
   "name": "python",
   "nbconvert_exporter": "python",
   "pygments_lexer": "ipython3",
   "version": "3.11.5"
  }
 },
 "nbformat": 4,
 "nbformat_minor": 5
}
