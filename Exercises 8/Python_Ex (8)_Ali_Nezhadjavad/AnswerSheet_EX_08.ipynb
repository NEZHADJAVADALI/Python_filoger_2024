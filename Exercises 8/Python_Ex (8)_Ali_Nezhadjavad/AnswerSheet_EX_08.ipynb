{
 "cells": [
  {
   "cell_type": "markdown",
   "id": "fb7a8054",
   "metadata": {},
   "source": [
    "<div style=\"color: white;padding-top:18px;text-align:center;background-color:#8B008B;border-radius:15px;border: 1px solid white;\"> \n",
    "    <h3>Exercise 8 (score:500)</h3>\n",
    "</div>"
   ]
  },
  {
   "cell_type": "markdown",
   "id": "bd5458df",
   "metadata": {},
   "source": [
    "<div style=\"color: black;font-family:Georgia;padding-top:18px;text-align:left;background-color:lightskyblue;border-radius:15px;border: 2px solid cornflowerblue;\">\n",
    "    <h4>Question 01 (Function)(100):</h4>\n",
    "    <p>\n",
    "        Write question of exercise 6 by function. \n",
    "    </p>\n",
    "</div>"
   ]
  },
  {
   "cell_type": "code",
   "execution_count": null,
   "id": "99937553-2a26-4787-b365-d46f41243c5e",
   "metadata": {},
   "outputs": [],
   "source": [
    "# Attached in zip file"
   ]
  },
  {
   "cell_type": "markdown",
   "id": "014bb5de",
   "metadata": {},
   "source": [
    "<div style=\"color: black;font-family:Georgia;padding-top:18px;text-align:left;background-color:lightskyblue;border-radius:15px;border: 2px solid cornflowerblue;\">\n",
    "    <h4>Question 02 (dictionary)(100):</h4>\n",
    "    <p>\n",
    "        Below list is information of a product, change this list to dictionary and answer to questions? \n",
    "    </p>\n",
    "    <ol>\n",
    "  <li>What is the name of the product?</li>\n",
    "  <li>What is the price of the product?</li>\n",
    "  <li>What is the color of the product?</li>\n",
    "  <li>When was the product released?</li>\n",
    "  <li>Can you change the color of the product to 'Silver'?</li>\n",
    "  <li>Create a list with 4 products buy this structure.</li>\n",
    "</ol>\n",
    "</div>"
   ]
  },
  {
   "cell_type": "code",
   "execution_count": 15,
   "id": "064621d4",
   "metadata": {},
   "outputs": [
    {
     "name": "stdout",
     "output_type": "stream",
     "text": [
      "name of product is Apple iPhone\n",
      "price of product is 999.99\n",
      "color of prodoct is Gray\n",
      "release time is July 2021\n",
      "list of products is :\n",
      "{'name': 'Apple iPhone', 'price': 999.99, 'color': 'Gray', 'release': 'July 2021'}\n",
      "{'name': 'S 24 Ultra', 'price': 899.99, 'color': 'White', 'release': 'September 2024'}\n",
      "{'name': 'Note 10', 'price': 799.99, 'color': 'Blue', 'release': 'June 2018'}\n",
      "{'name': 'Hoawi', 'price': 699.99, 'color': 'Red', 'release': 'December 2020'}\n"
     ]
    }
   ],
   "source": [
    "# checked\n",
    "product = ['Apple iPhone', 999.99, 'Gray', 'July 2021']\n",
    "\n",
    "# change list to Dict\n",
    "product_dict = {\"name\" : 'Apple iPhone', \"price\" : 999.99, \"color\" : 'Gray', \"release\" : 'July 2021'}\n",
    "\n",
    "# What is the name of the product?\n",
    "name = product_dict['name']\n",
    "print(f\"name of product is {name}\")\n",
    " \n",
    "# What is the price of the product?\n",
    "price = product_dict['price'] \n",
    "print(f\"price of product is {price}\")\n",
    "\n",
    "# What is the color of the product?\n",
    "color = product_dict['color']\n",
    "print(f\"color of prodoct is {color}\")\n",
    "\n",
    "# When was the product released?\n",
    "release = product_dict['release']\n",
    "print(f\"release time is {release}\")\n",
    "\n",
    "# Chnage the color ot Silver\n",
    "product_dict['color'] = \"Silver\"\n",
    "\n",
    "# Create a list with 4 products buy this structure\n",
    "list_of_prodocts_dict = [\n",
    "    {\"name\" : 'Apple iPhone', \"price\" : 999.99, \"color\" : 'Gray', \"release\" : 'July 2021'},\n",
    "    {\"name\" : 'S 24 Ultra', \"price\" : 899.99, \"color\" : 'White', \"release\" : 'September 2024'},\n",
    "    {\"name\" : 'Note 10', \"price\" : 799.99, \"color\" : 'Blue', \"release\" : 'June 2018'},\n",
    "    {\"name\" : 'Hoawi', \"price\" : 699.99, \"color\" : 'Red', \"release\" : 'December 2020'}\n",
    "]\n",
    "print(\"list of products is :\")\n",
    "for i in list_of_prodocts_dict:\n",
    "    print(i)\n",
    "\n",
    "\n"
   ]
  },
  {
   "cell_type": "markdown",
   "id": "5c81e750",
   "metadata": {},
   "source": [
    "<div style=\"color: black;font-family:Georgia;padding-top:18px;text-align:left;background-color:lightskyblue;border-radius:15px;border: 2px solid cornflowerblue;\">\n",
    "    <h4>Question 03 (dictionary)(100):</h4>\n",
    "    <p>\n",
    "    create a dictionary named student_grades containing three students' names as keys and their grades as values. Perform the following: \n",
    "    </p>\n",
    "    <ul>\n",
    "    <li>add two new students with their grades to student_grades, names are unique.</li>  \n",
    "    <li>Delete any students from student_grades who have grades below 10.</li>\n",
    "    <li>Get a name from the user If the user's name is in the dictionary of students, get a new grade and change the student's grade.</li> \n",
    "    <li>Show the average scores of all students.</li>\n",
    "    </ul>\n",
    "</div>"
   ]
  },
  {
   "cell_type": "code",
   "execution_count": 16,
   "id": "50e67dcd",
   "metadata": {},
   "outputs": [
    {
     "name": "stdout",
     "output_type": "stream",
     "text": [
      "{'ali': 20, 'hassan': 18, 'hossein': 19}\n",
      "{'ali': 20, 'hassan': 18, 'hossein': 19, 'mina': 14, 'tina': 9}\n",
      "{'ali': 20, 'hassan': 18, 'hossein': 19, 'mina': 14}\n",
      "{'ali': 13, 'hassan': 18, 'hossein': 19, 'mina': 14}\n",
      "the average of students is : 16.0\n"
     ]
    }
   ],
   "source": [
    "# checked\n",
    "# create student_grades Dictionary\n",
    "student_grades = {'ali' : 20, 'hassan' : 18, 'hossein' : 19}\n",
    "print(student_grades)\n",
    "\n",
    "# add two new student\n",
    "student_grades.update({'mina' : 14, 'tina' : 9})\n",
    "print(student_grades)\n",
    "\n",
    "# Delete below 10\n",
    "for key in list(student_grades.keys()):\n",
    "    if student_grades[key] < 10:\n",
    "        del student_grades[key]\n",
    "print(student_grades)\n",
    "\n",
    "# change the grade of student       \n",
    "name = input(\"Enter name of student to change the grade: \")\n",
    "if name in list(student_grades.keys()):\n",
    "    new_grade = int(input(\"what is the new grade? \"))\n",
    "    student_grades[name] = new_grade\n",
    "else:\n",
    "    print(\"name not found!!!\")\n",
    "\n",
    "print(student_grades)\n",
    "    \n",
    "# average score of all stduents\n",
    "grades = student_grades.values()\n",
    "total_grade = 0\n",
    "num_of_students = len(grades)\n",
    "for i in grades:\n",
    "    total_grade += i\n",
    "avg = total_grade / num_of_students\n",
    "print(f\"the average of students is : {avg}\")\n"
   ]
  },
  {
   "cell_type": "markdown",
   "id": "34326ff6",
   "metadata": {},
   "source": [
    "<div style=\"color: black;font-family:Georgia;padding-top:18px;text-align:left;background-color:lightskyblue;border-radius:15px;border: 2px solid cornflowerblue;\">\n",
    "    <h4>Question 04 (dictionary)(50):</h4>\n",
    "    <p>\n",
    "    What is the difference between the get() method and direct key access in a dictionary?\n",
    "    </p>\n",
    "</div>"
   ]
  },
  {
   "cell_type": "code",
   "execution_count": 6,
   "id": "3384ea23",
   "metadata": {},
   "outputs": [
    {
     "name": "stdout",
     "output_type": "stream",
     "text": [
      "the key is not in the dict\n"
     ]
    }
   ],
   "source": [
    "# checked\n",
    "# answer: the differece is in Error handling,when you are reading a dictionary if the key is not in the dict and you are using \n",
    "# the direct key access you will face a keyError but if you are using get() method you can set a message if the key was not in the \n",
    "# dict send the message\n",
    "\n",
    "dict = {'name' : 'ali'}\n",
    "\n",
    "# uncomment and see the result\n",
    "\n",
    "#print(dict.get('invalid_key', 'the key is not in the dict'))\n",
    "#print(dict['invalid_key'])"
   ]
  },
  {
   "cell_type": "markdown",
   "id": "f31d7edb",
   "metadata": {},
   "source": [
    "<div style=\"color: black;font-family:Georgia;padding-top:18px;text-align:left;background-color:lightskyblue;border-radius:15px;border: 2px solid cornflowerblue;\">\n",
    "    <h4>Question 05 (dictionary)(150):</h4>\n",
    "    <p>\n",
    "    Create a dictionary named employee_data where the keys are employee IDs (as strings) and the values are dictionaries containing the employee's name, age, and salary. Perform the following: \n",
    "    </p>\n",
    "    <ul>\n",
    "    <li>Add information for three new employees, making sure each ID is unique.</li>  \n",
    "    <li>Update the salary for an employee if their age is over 50, increasing it by 10%.</li>\n",
    "    <li>Remove any employee from employee_data whose salary is below 3000.</li> \n",
    "    <li>Ask the user for an employee ID. If the ID exists, update the employee's age and name as provided by the user.</li>\n",
    "    <li>Calculate and display the total salary expenditure for all employees in the dictionary.</li>\n",
    "    </ul>\n",
    "</div>"
   ]
  },
  {
   "cell_type": "code",
   "execution_count": 32,
   "id": "6fb8490b",
   "metadata": {},
   "outputs": [
    {
     "name": "stdout",
     "output_type": "stream",
     "text": [
      "increased salary \n",
      "('1001', {'name': 'ali', 'age': 30, 'salary': 1000})\n",
      "('1002', {'name': 'hassan', 'age': 60, 'salary': 4400.0})\n",
      "('1003', {'name': 'hossein', 'age': 27, 'salary': 3000})\n",
      "----------\n",
      "salaries above 3000\n",
      "('1002', {'name': 'hassan', 'age': 60, 'salary': 4400.0})\n",
      "('1003', {'name': 'hossein', 'age': 27, 'salary': 3000})\n",
      "----------\n",
      "update age and name\n",
      "('1002', {'name': 'hassanak', 'age': '21', 'salary': 4400.0})\n",
      "('1003', {'name': 'hossein', 'age': 27, 'salary': 3000})\n",
      "----------\n",
      "the total salary expecditure is 7400.0\n"
     ]
    }
   ],
   "source": [
    "# check\n",
    "# create dict\n",
    "employee_data = {}\n",
    "\n",
    "# adding three new item\n",
    "employee_data['1001'] = {'name' : 'ali', 'age': 30, 'salary' : 1000}\n",
    "employee_data['1002'] = {'name' : 'hassan', 'age': 60, 'salary' : 4000}\n",
    "employee_data['1003'] = {'name' : 'hossein', 'age': 27, 'salary' : 3000}\n",
    "\n",
    "# increase the salary 10%\n",
    "for id , valuse_key in employee_data.items():\n",
    "    if valuse_key['age'] >= 50:\n",
    "        valuse_key['salary'] *= 1.1\n",
    "print(\"increased salary \")\n",
    "for i in employee_data.items():\n",
    "    print(i)\n",
    "print(\"----------\")\n",
    "       \n",
    "# remove salaries below 3000 using list comprehension\n",
    "to_romove = [emp_id for emp_id, emp_info in employee_data.items() if emp_info['salary'] < 3000]\n",
    "for emp_id in to_romove:\n",
    "    del employee_data[emp_id]\n",
    "print(\"salaries above 3000\")\n",
    "for i in employee_data.items():\n",
    "    print(i)\n",
    "print(\"----------\")\n",
    "\n",
    "\n",
    "# update age and name of employee if exist\n",
    "id_ = input(\"Enter the id of the employee: \")\n",
    "if id_ in employee_data.keys():\n",
    "    new_age = input(\"Enter the new age: \")\n",
    "    employee_data[id_]['age'] = new_age\n",
    "    new_name = input('Enter the new name: ')\n",
    "    employee_data[id_]['name'] = new_name\n",
    "else:\n",
    "    print(\"the name not in the list \")\n",
    "\n",
    "print(\"update age and name\")\n",
    "for i in employee_data.items():\n",
    "    print(i)\n",
    "print(\"----------\")\n",
    "\n",
    "# calculate the total salary expenditure\n",
    "total_salary = sum(employee_info['salary'] for employee_info in employee_data.values())\n",
    "print(f\"the total salary expecditure is {total_salary}\")\n",
    "\n",
    "\n",
    "    \n"
   ]
  },
  {
   "cell_type": "markdown",
   "id": "293056e3",
   "metadata": {},
   "source": [
    "<h2 style=\"color: blue:; background-color: purple\">Good luck</h2>"
   ]
  }
 ],
 "metadata": {
  "kernelspec": {
   "display_name": "Python 3 (ipykernel)",
   "language": "python",
   "name": "python3"
  },
  "language_info": {
   "codemirror_mode": {
    "name": "ipython",
    "version": 3
   },
   "file_extension": ".py",
   "mimetype": "text/x-python",
   "name": "python",
   "nbconvert_exporter": "python",
   "pygments_lexer": "ipython3",
   "version": "3.11.5"
  }
 },
 "nbformat": 4,
 "nbformat_minor": 5
}
