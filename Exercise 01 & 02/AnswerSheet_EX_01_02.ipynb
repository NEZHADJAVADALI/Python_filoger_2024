{
 "cells": [
  {
   "cell_type": "markdown",
   "id": "fb7a8054",
   "metadata": {},
   "source": [
    "<div style=\"color: white;padding-top:0px;text-align:center;background-color:#257662;border-radius:15px;border: 1px solid white;\"> \n",
    "    <h3>Exercise 1 (score:350)</h3>\n",
    "</div>"
   ]
  },
  {
   "cell_type": "markdown",
   "id": "bd5458df",
   "metadata": {},
   "source": [
    "<div style=\"color: white;padding-top:0px;text-align:left;background-color:red;border-radius:15px;border: 1px solid white;\"> \n",
    "    <h4>Question 01 (Basic)(50):</h4>\n",
    "</div>"
   ]
  },
  {
   "cell_type": "code",
   "execution_count": 5,
   "id": "37ae1073-8e31-426a-ac70-111e4ffe2256",
   "metadata": {},
   "outputs": [
    {
     "name": "stdout",
     "output_type": "stream",
     "text": [
      "<class 'int'>\n",
      "<class 'int'>\n"
     ]
    }
   ],
   "source": [
    "num1 = 12.45\n",
    "num1 = int(num1) # cast the type\n",
    "print(type(num1))  #check the type\n",
    "num2 = \"12.45\"\n",
    "num2 = float(num2)\n",
    "num2 = int(num2)\n",
    "print(type(num2))\n",
    "\n"
   ]
  },
  {
   "cell_type": "markdown",
   "id": "1d00f89c",
   "metadata": {},
   "source": [
    "<div style=\"color: white;padding-top:0px;text-align:left;background-color:red;border-radius:15px;border: 1px solid white;\"> \n",
    "    <h4>Question 02 (Basic)(50)</h4>\n",
    "</div>"
   ]
  },
  {
   "cell_type": "code",
   "execution_count": null,
   "id": "3816d8c6-4af5-4d92-8c4b-042a7f86fb7e",
   "metadata": {},
   "outputs": [],
   "source": []
  },
  {
   "cell_type": "markdown",
   "id": "db081bf6",
   "metadata": {},
   "source": [
    "<div style=\"color: white;padding-top:0px;text-align:left;background-color:red;border-radius:15px;border: 1px solid white;\"> \n",
    "    <h4>Question 03 (Basic)(50)</h4>\n",
    "</div>"
   ]
  },
  {
   "cell_type": "code",
   "execution_count": null,
   "id": "365f6809-06ab-43ce-8f15-eb94e950723c",
   "metadata": {},
   "outputs": [],
   "source": []
  },
  {
   "cell_type": "markdown",
   "id": "685a1886",
   "metadata": {},
   "source": [
    "<div style=\"color: white;padding-top:0px;text-align:left;background-color:red;border-radius:15px;border: 1px solid white;\"> \n",
    "    <h4>Question 04 (Basic)(50)</h4>\n",
    "</div>"
   ]
  },
  {
   "cell_type": "code",
   "execution_count": null,
   "id": "13d828cf-b55b-4486-b176-a6a73ff3ca23",
   "metadata": {},
   "outputs": [],
   "source": []
  },
  {
   "cell_type": "markdown",
   "id": "7498e245-7d08-4954-a7de-08f891427cc1",
   "metadata": {},
   "source": [
    "<div style=\"color: white;padding-top:0px;text-align:left;background-color:red;border-radius:15px;border: 1px solid white;\"> \n",
    "    <h4>Question 05 (Basic)(50)</h4>\n",
    "</div>"
   ]
  },
  {
   "cell_type": "code",
   "execution_count": null,
   "id": "e70e6a6b-5c16-4135-9e76-c459febfa6eb",
   "metadata": {},
   "outputs": [],
   "source": []
  },
  {
   "cell_type": "markdown",
   "id": "631be292-3395-46eb-9244-2a5f44997d82",
   "metadata": {},
   "source": [
    "<div style=\"color: white;padding-top:0px;text-align:left;background-color:red;border-radius:15px;border: 1px solid white;\"> \n",
    "    <h4>Question 06 (Basic)(50)</h4>\n",
    "</div>"
   ]
  },
  {
   "cell_type": "code",
   "execution_count": null,
   "id": "64767ede-9a93-4da2-ad6a-011d81fe414d",
   "metadata": {},
   "outputs": [],
   "source": []
  },
  {
   "cell_type": "markdown",
   "id": "cb8bde05",
   "metadata": {},
   "source": [
    "<div style=\"color: white;padding-top:18px;text-align:left;background-color:red;border-radius:15px;border: 1px solid white;\"> \n",
    "    <h4>Question 05 (String)(80)</h4>\n",
    "<p> Write a program that prompts the user to enter a password. The program\n",
    "should validate the password based on the following criteria</p>\n",
    "\n",
    "</div>"
   ]
  },
  {
   "cell_type": "raw",
   "id": "fc5d6ee9",
   "metadata": {},
   "source": [
    "The length of the password must be exactly 8 characters.\n",
    "The first four characters of the password must be letters (alphabets).\n",
    "The last four characters of the password must be digits (numbers).\n",
    "If the password meets all the above criteria, the program should display \"Valid\".\n",
    "Otherwise, it should display \"Invalid\"."
   ]
  },
  {
   "cell_type": "code",
   "execution_count": 21,
   "id": "a04b6d1f",
   "metadata": {},
   "outputs": [
    {
     "name": "stdout",
     "output_type": "stream",
     "text": [
      "Enter Your Password:  mmmm1234\n"
     ]
    },
    {
     "name": "stdout",
     "output_type": "stream",
     "text": [
      "len : 8 \n",
      "part1: mmmm \n",
      "part2: 1234\n",
      "Valid\n"
     ]
    }
   ],
   "source": [
    "# write code here: \n",
    "\n",
    "password = input(\"Enter Your Password: \")\n",
    "\n",
    "len_pass = len(password)\n",
    "\n",
    "middle = len_pass//2\n",
    "\n",
    "part1 = password[:middle]\n",
    "\n",
    "part2 = password[middle:]\n",
    "\n",
    "print(\"len :\",len_pass,\"\\npart1:\",part1,\"\\npart2:\",part2)\n",
    "\n",
    "if len_pass == 8 and part1.isalpha() and part2.isdigit():\n",
    "    \n",
    "    print(\"Valid\")\n",
    "    \n",
    "else:\n",
    "    \n",
    "    print(\"Invalid\")"
   ]
  },
  {
   "cell_type": "markdown",
   "id": "f4491296",
   "metadata": {},
   "source": [
    "<div style=\"color: white;padding-top:0px;text-align:center;background-color:#257662;border-radius:15px;border: 1px solid white;\"> \n",
    "    <h3>Exercise 2 (score:200)</h3>\n",
    "</div>"
   ]
  },
  {
   "cell_type": "markdown",
   "id": "360428f2",
   "metadata": {},
   "source": [
    "<div style=\"color: white;padding-top:0px;text-align:left;background-color:red;border-radius:15px;border: 1px solid white;\"> \n",
    "    <h4>Question 01 (Condition)(50)</h4>\n",
    "</div>"
   ]
  },
  {
   "cell_type": "code",
   "execution_count": null,
   "id": "b5e76b02-d935-45b4-aa63-c23ec3282906",
   "metadata": {},
   "outputs": [],
   "source": []
  },
  {
   "cell_type": "markdown",
   "id": "3a869f83",
   "metadata": {},
   "source": [
    "<div style=\"color: white;padding-top:0px;text-align:left;background-color:red;border-radius:15px;border: 1px solid white;\"> \n",
    "    <h4>Question 02 (Condition)(50)</h4>\n",
    "</div>"
   ]
  },
  {
   "cell_type": "code",
   "execution_count": null,
   "id": "b5fdaf97-807f-495b-8e42-3bac23a8b14a",
   "metadata": {},
   "outputs": [],
   "source": []
  },
  {
   "cell_type": "markdown",
   "id": "e3adf415",
   "metadata": {},
   "source": [
    "<div style=\"color: white;padding-top:0px;text-align:left;background-color:red;border-radius:15px;border: 1px solid white;\"> \n",
    "    <h4>Question 03 (Condition)(50)</h4>\n",
    "</div>"
   ]
  },
  {
   "cell_type": "code",
   "execution_count": null,
   "id": "d5329c84-1107-41d7-ad15-681a0442828c",
   "metadata": {},
   "outputs": [],
   "source": []
  },
  {
   "cell_type": "markdown",
   "id": "3eb93eb1",
   "metadata": {},
   "source": [
    "<div style=\"color: white;padding-top:0px;text-align:left;background-color:red;border-radius:15px;border: 1px solid white;\"> \n",
    "    <h4>Question 04 (Condition)(50)</h4>\n",
    "</div>"
   ]
  },
  {
   "cell_type": "code",
   "execution_count": null,
   "id": "99937553-2a26-4787-b365-d46f41243c5e",
   "metadata": {},
   "outputs": [],
   "source": []
  },
  {
   "cell_type": "markdown",
   "id": "293056e3",
   "metadata": {},
   "source": [
    "<h2 style=\"color: blue:; background-color: purple\">Good luck</h2>"
   ]
  }
 ],
 "metadata": {
  "kernelspec": {
   "display_name": "Python 3 (ipykernel)",
   "language": "python",
   "name": "python3"
  },
  "language_info": {
   "codemirror_mode": {
    "name": "ipython",
    "version": 3
   },
   "file_extension": ".py",
   "mimetype": "text/x-python",
   "name": "python",
   "nbconvert_exporter": "python",
   "pygments_lexer": "ipython3",
   "version": "3.11.5"
  }
 },
 "nbformat": 4,
 "nbformat_minor": 5
}
