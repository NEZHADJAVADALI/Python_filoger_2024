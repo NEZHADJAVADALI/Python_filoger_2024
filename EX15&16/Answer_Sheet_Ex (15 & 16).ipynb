{
 "cells": [
  {
   "cell_type": "markdown",
   "id": "ead54e1a",
   "metadata": {},
   "source": [
    "<div style=\"color: white;padding-top:18px;text-align:center;background-color:#610C9F;border-radius:15px;border: 1px solid white;\"> \n",
    "    <h3>Exercise 15 (score:300 + 50(GitHub)\n",
    "    )</h3>\n",
    "</div>"
   ]
  },
  {
   "cell_type": "markdown",
   "id": "9986a78d",
   "metadata": {},
   "source": [
    "<div style=\"color: white;padding-top:18px;text-align:left;background-color:#940B92;border-radius:15px;border: 1px solid white;\"> \n",
    "    <h4>Question 01 To Do List OOP Project(300 + 50):</h4>\n",
    "    <p>You are tasked with creating a ToDo list manager using Object-Oriented Programming (OOP).\n",
    "        Your program should consist of atleastthree classes: Task, Manager, and a Main function for\n",
    "        running the application. Each class should be in a separate file to manage the project more\n",
    "        effectively\n",
    "    </p>\n",
    "<p>Task Class:</p>\n",
    "<ul>\n",
    "<li>Each task must have the following attributes:</li>\n",
    "<ul>\n",
    "<li>A title (string).</li>\n",
    "<li>A description(string).</li>\n",
    "<li>A unique task ID, which should be a number but must be stored as a string (your program\n",
    "should check thatthe ID is numeric).</li>\n",
    "<li>Starttime, which is automatically recorded when a task is created.</li>\n",
    "<li>End time, which is recorded when the task is marked as done.</li>\n",
    "<li>Status: A boolean value thatis setto False when the task is created and setto True when the\n",
    "task is marked as done.</li>\n",
    "</ul>\n",
    "</ul>\n",
    "<p>Manager Class</p>\n",
    "<ul>\n",
    "<li>The manager should be able to:</li>\n",
    "<ul>\n",
    "<li>Add a task: Create and add a new task with a unique task ID.</li>\n",
    "<li>Change task status to done: Mark the task as completed, update the status to True, and\n",
    "record the end time.\n",
    "</li>\n",
    "<li>Display tasks: Show alltasks along with their details, such as task ID,title, description,\n",
    "starttime, end time (if completed), and current status (done or not done).</li>\n",
    "<li>Task summary: Display the number oftasks that are completed (status = True) and those\n",
    "that are not completed (status = False).\n",
    "</li>\n",
    "</ul>\n",
    "</ul>\n",
    "<p>Main:</p>\n",
    "<ul>\n",
    "<li>The manager should be able to:</li>\n",
    "<ul>\n",
    "<li>The main function should interact with the Managerto allow users to perform actions\n",
    "such as adding a task, marking a task as done, and viewing alltasks.</li>\n",
    "</ul>\n",
    "</ul>\n",
    "<p style = \"color:black;\">Additional Requirements:</p>\n",
    "<ul>\n",
    "<li>Your program must be splitinto atleastthree files: one forthe Task class, one forthe Manager class, and\n",
    "one forthe Main.</li>\n",
    "<li>Make sure task IDs are unique</li>\n",
    "<li>Ensure your program can handle and display the task details correctly.</li>\n",
    "</ul>\n",
    "</div>"
   ]
  },
  {
   "cell_type": "code",
   "execution_count": 2,
   "id": "7710ae23",
   "metadata": {},
   "outputs": [],
   "source": [
    "# Please write your codes in the .py file"
   ]
  },
  {
   "cell_type": "markdown",
   "id": "0e2c870c",
   "metadata": {},
   "source": [
    "<div style=\"color: white;padding-top:18px;text-align:center;background-color:#610C9F;border-radius:15px;border: 1px solid white;\"> \n",
    "    <h3>Exercise 16 (score:200 + 50(GitHub)\n",
    "    )</h3>\n",
    "</div>"
   ]
  },
  {
   "cell_type": "markdown",
   "id": "98cda4ff",
   "metadata": {},
   "source": [
    "<div style=\"color: white;padding-top:18px;text-align:left;background-color:#940B92;border-radius:15px;border: 1px solid white;\"> \n",
    "    <h4>Question 01(Inheritance)(200 + 50)</h4>\n",
    "<p>You are tasked with creating a system for managing electronic devices. Both Laptops and\n",
    "Smartphones share some common features, butthey also have their own specific\n",
    "characteristics. Use inheritance to avoid repeating code.<p>\n",
    "<p>Device Class (Base Class):</p>\n",
    "<ul>\n",
    "Common Attributes (shared by both laptops and smartphones):\n",
    "<ul>\n",
    "<li>Brand (string)</li>\n",
    "<li>Model(string)</li>\n",
    "<li>Price(float)</li>\n",
    "</ul>\n",
    "</ul>\n",
    "<ul>\n",
    "Common Methods:\n",
    "<ul>\n",
    "<li>Turn On: Prints a message thatthe device is powered on.</li>\n",
    "<li>Turn Off: Prints a message thatthe device is powered off.</li>\n",
    "<li>Display Info: Displays the brand, model, and price ofthe device.\n",
    "</li>\n",
    "</ul>\n",
    "</ul>\n",
    "<ul>\n",
    "Laptop Class (Derived Class):\n",
    "<ul>\n",
    "<li>Inherits all attributes and methods from the Device class.\n",
    "</li>\n",
    "<li>Additional Attribute:</li>\n",
    "<ul><li>RAM Size (integer,GB)</li></ul>\n",
    "<li>Additional Method:</li>\n",
    "<ul><li>Open Laptop: Prints a message indicating the laptop is opened.</li></ul>\n",
    "</ul>\n",
    "</ul>\n",
    "<ul>\n",
    "Smartphone Class (Derived Class):\n",
    "<ul>\n",
    "<li>Inherits all attributes and methods from the Device class.\n",
    "</li>\n",
    "<li>Additional Attribute:</li>\n",
    "<ul><li>Camera Resolution (integer, MP)</li></ul>\n",
    "<li>Additional Method:</li>\n",
    "<ul><li>Take Photo: Prints a message saying a photo has been taken.</li></ul>\n",
    "</ul>\n",
    "</ul>\n",
    "</div>"
   ]
  },
  {
   "cell_type": "code",
   "execution_count": null,
   "id": "e3856ce6",
   "metadata": {},
   "outputs": [],
   "source": [
    "# Please write your codes in the .py file"
   ]
  }
 ],
 "metadata": {
  "kernelspec": {
   "display_name": "Python 3 (ipykernel)",
   "language": "python",
   "name": "python3"
  },
  "language_info": {
   "codemirror_mode": {
    "name": "ipython",
    "version": 3
   },
   "file_extension": ".py",
   "mimetype": "text/x-python",
   "name": "python",
   "nbconvert_exporter": "python",
   "pygments_lexer": "ipython3",
   "version": "3.11.5"
  }
 },
 "nbformat": 4,
 "nbformat_minor": 5
}
